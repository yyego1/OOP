{
  "cells": [
    {
      "cell_type": "markdown",
      "metadata": {
        "id": "8qPMFJgnxL8D"
      },
      "source": [
        "## Informatyka stosowana, AiP\n",
        "\n",
        "#### Lab 6: Powtórzenie\n",
        "**Pytania po wykładzie**\n",
        "- pola ukryte\n",
        "- automatyczne gettery i settery\n",
        "\n"
      ]
    },
    {
      "cell_type": "code",
      "source": [],
      "metadata": {
        "id": "tOCt7DrTll0J"
      },
      "execution_count": null,
      "outputs": []
    },
    {
      "cell_type": "markdown",
      "source": [
        "### Zadanie\n",
        "\n",
        " Napisz dekorator repeat, który tak modyfikuje funkcję, że zamiast wartości f(x) zwracana jest wartość f(f(x)).\n",
        "Np jeśli $f(x) = x^2$, to zamiast $f(2) = 2^2 = 4$ zwracana będzie wartość $f(f(x)) = (2^2)^2 = 4^2 = 16$"
      ],
      "metadata": {
        "id": "8mjeC-7xb_xU"
      }
    },
    {
      "cell_type": "code",
      "source": [
        "@repeat\n",
        "def fx(x):\n",
        "  return x**2"
      ],
      "metadata": {
        "id": "jKwj17I4b_Ql"
      },
      "execution_count": null,
      "outputs": []
    },
    {
      "cell_type": "code",
      "source": [
        "def repeat(f):\n",
        "  def wrapper(a1):\n",
        "    print(f\"f(f(x)) = {f(f(a1))}\")\n",
        "  return wrapper\n",
        "\n"
      ],
      "metadata": {
        "id": "sYEWXYMoMr9w"
      },
      "execution_count": null,
      "outputs": []
    },
    {
      "cell_type": "code",
      "source": [
        "fx(2)"
      ],
      "metadata": {
        "colab": {
          "base_uri": "https://localhost:8080/"
        },
        "id": "KBGs_L-tN2UI",
        "outputId": "7d599c91-2afc-4c2d-9106-2f0078ebe4db"
      },
      "execution_count": null,
      "outputs": [
        {
          "output_type": "stream",
          "name": "stdout",
          "text": [
            "f(f(x)) = 16\n"
          ]
        }
      ]
    },
    {
      "cell_type": "markdown",
      "source": [
        "### Zadanie\n",
        "Repaeat 8. Napisz dekorator, który wykona osiem złożeń funkcji z zadania poprzedniego."
      ],
      "metadata": {
        "id": "FcIcj2RNcdMr"
      }
    },
    {
      "cell_type": "code",
      "source": [
        "@repeat8\n",
        "def fx8(x):\n",
        "  return x**2"
      ],
      "metadata": {
        "id": "F9Xy6TEScPu1"
      },
      "execution_count": null,
      "outputs": []
    },
    {
      "cell_type": "code",
      "source": [
        "def repeat8(f):\n",
        "  def wrapper(a1):\n",
        "    for i in range(0,8):\n",
        "      a1 = f(a1)\n",
        "      print(a1)\n",
        "  return wrapper\n",
        "\n",
        "\n"
      ],
      "metadata": {
        "id": "957zildQcbbX"
      },
      "execution_count": null,
      "outputs": []
    },
    {
      "cell_type": "code",
      "source": [
        "fx8(2)"
      ],
      "metadata": {
        "colab": {
          "base_uri": "https://localhost:8080/"
        },
        "id": "lOk6abmScU5V",
        "outputId": "ba49c1d0-3299-4fb8-b01d-3ee88c7f58fe"
      },
      "execution_count": null,
      "outputs": [
        {
          "output_type": "stream",
          "name": "stdout",
          "text": [
            "4\n",
            "16\n",
            "256\n",
            "65536\n",
            "4294967296\n",
            "18446744073709551616\n",
            "340282366920938463463374607431768211456\n",
            "115792089237316195423570985008687907853269984665640564039457584007913129639936\n"
          ]
        }
      ]
    },
    {
      "cell_type": "markdown",
      "source": [
        "### Zadanie\n",
        "Napisz dekoratory (rano,wieczór,popołudniu), które zmodyfikują funkcję zwracającą słowo Good, aby zwracało napis Good morning itd w zalezności od godziny"
      ],
      "metadata": {
        "id": "VTpvHFL6cRzM"
      }
    },
    {
      "cell_type": "code",
      "source": [
        "@rano\n",
        "def good():\n",
        "  return 'good'"
      ],
      "metadata": {
        "id": "LjQlcdmvb-gp"
      },
      "execution_count": null,
      "outputs": []
    },
    {
      "cell_type": "code",
      "source": [
        "from datetime import datetime\n",
        "def rano(g):\n",
        "  def wrapper():\n",
        "    x = int(datetime.now().time().strftime(\"%H\"))\n",
        "    if x >= 5 and x < 12:\n",
        "      print(f\"{g()} morning\")\n",
        "    if x >= 12 and x < 17:\n",
        "      print(f\"{g()} afternoon\")\n",
        "    if x >= 17 and x < 23:\n",
        "      print(f\"{g()} evening\")\n",
        "\n",
        "\n",
        "  return wrapper\n",
        ""
      ],
      "metadata": {
        "id": "Sv2lRwxGO8OD"
      },
      "execution_count": null,
      "outputs": []
    },
    {
      "cell_type": "code",
      "source": [
        "good()"
      ],
      "metadata": {
        "id": "_XD3_CuPT4-u",
        "colab": {
          "base_uri": "https://localhost:8080/"
        },
        "outputId": "018bf640-2d84-4e09-c920-6a0efed891c9"
      },
      "execution_count": null,
      "outputs": [
        {
          "output_type": "stream",
          "name": "stdout",
          "text": [
            "good morning\n"
          ]
        }
      ]
    },
    {
      "cell_type": "code",
      "source": [
        "from datetime import datetime\n",
        "x = datetime.now().time()\n",
        "print(x)"
      ],
      "metadata": {
        "colab": {
          "base_uri": "https://localhost:8080/"
        },
        "id": "k15K22jtPr7c",
        "outputId": "543d2c31-0a61-485b-aa5f-a5dabd8bdb9b"
      },
      "execution_count": null,
      "outputs": [
        {
          "output_type": "stream",
          "name": "stdout",
          "text": [
            "16:57:02.792781\n"
          ]
        }
      ]
    },
    {
      "cell_type": "code",
      "source": [],
      "metadata": {
        "id": "H61Ym3_4Sh4M"
      },
      "execution_count": null,
      "outputs": []
    },
    {
      "cell_type": "markdown",
      "metadata": {
        "id": "ZVHLQ34LxL8S"
      },
      "source": [
        "### Zadanie\n",
        "\n",
        "Napisz klasę robot.\n",
        "\n",
        "Atrybuty: (`5` punktów)\n",
        "> nazwa - nazwa robota\n",
        "\n",
        "> start - współrzędne punktu z którego robot startuje, domyślnie (0,0) (krotka)\n",
        "\n",
        "> miejsce - współrzędne punktu w którym robot się znajduje (lista)\n",
        "\n",
        "> moc - ilość energii, którą posiada robot domyślne na strat 9\n",
        "\n",
        "Metody: (`10,10,5,5 punktów odpowiednio`)\n",
        "> instancji\n",
        "   -  up - ruch do góry o określoną w argumencie liczbę pól\n",
        "   - right - ruch w prawo o określoną  w argumencie liczbę pól\n",
        "   - __str__ - informacje o nazwie, pozycji i ilości energii\n",
        "   - sprawdz_moc - zgłasza wyjątek gdy moc spadnie do 0 lub jest mmniejsza.\n",
        "  \n",
        "  \n",
        "Funkcjonalność:\n",
        " > utworzenie instancji klasy robot i wykonanie testów ręcznych lub z wykorzysatniem modułu random pokzaujących, że robot porusza się zmienia się jego moc (w tym ulega doładowaniu) oraz konczy pracę gdy moc jest mniejsza lub równa 0 (`5`)\n",
        "\n",
        " > przemierzanie tablicy o wymiarach 8 na 8 zgodnie z regułami:\n",
        "        - gdy osiągnie krawędź (górę planszy),  to pojawia się na dole w tej samej kolumnie\n",
        "        - gdy osiągnie krawędź (prawy bok), to pojawia się z lewej strony w tym samym wierszu\n",
        "  \n",
        "  > dodanie mocy - gdy robot znajduje się na dowolnym polu pierwszego wiersza (`5`)\n",
        "  \n",
        "  > moc zminiejsza się o ilość przebytych pól\n",
        "    \n",
        "  > obsługa zgłoszonego błędu - moc <=0   (`5`)\n",
        "   \n",
        "   \n",
        "\n",
        "Dodanie setterów, getterów (`+10 punktów`)\n",
        "\n",
        "\n",
        "\n",
        "\n",
        "\n",
        "\n",
        "\n"
      ]
    },
    {
      "cell_type": "code",
      "source": [
        "class robot:\n",
        "  \"\"\"\n",
        "  Klasa opisujaca robota\n",
        "\n",
        "  Atrybuty:\n",
        "\n",
        "  Nazwa(str) : nazwa robota\n",
        "  Start(tuple) : współrzędne punktu z którego robot startuje\n",
        "  Miejsce(list) : współrzędne punktu w którym robot się znajduje\n",
        "  Moc(int) : ilość energii, którą posiada robot\n",
        "\n",
        "  \"\"\"\n",
        "\n",
        "  def __init__(self, nazwa, moc):\n",
        "    self.nazwa = nazwa\n",
        "    self.moc = moc\n",
        "\n",
        "  @property\n",
        "  def nazwa(self):\n",
        "    return self.__nazwa\n",
        "\n",
        "  @nazwa.setter\n",
        "  def nazwa(self, value):\n",
        "    self.__nazwa = value\n",
        "\n",
        "  @property\n",
        "  def moc(self):\n",
        "    return self.__moc\n",
        "\n",
        "  @moc.setter\n",
        "  def moc(self, value):\n",
        "    self.__moc = value\n",
        "\n",
        "\n",
        "  def __str__(self):\n",
        "    return f\"nazwa robota: {self.nazwa}, moc robota: {self.moc}\""
      ],
      "metadata": {
        "id": "LXQFx6EuVTwP"
      },
      "execution_count": null,
      "outputs": []
    },
    {
      "cell_type": "code",
      "source": [
        "r1 = robot(\"john\", 9)\n",
        "print(r1)\n",
        "r1.nazwa = (\"Ted\")\n",
        "print(r1)\n",
        "r1.moc = 4\n",
        "print(r1)"
      ],
      "metadata": {
        "colab": {
          "base_uri": "https://localhost:8080/"
        },
        "id": "rU9mNdLaar-I",
        "outputId": "41ddc785-7b30-4d79-d740-311a7f33b0e4"
      },
      "execution_count": null,
      "outputs": [
        {
          "output_type": "stream",
          "name": "stdout",
          "text": [
            "nazwa robota: john, moc robota: 9\n",
            "nazwa robota: Ted, moc robota: 9\n",
            "nazwa robota: Ted, moc robota: 4\n"
          ]
        }
      ]
    },
    {
      "cell_type": "code",
      "source": [
        "class Robot():\n",
        "    def __init__(self,nazwa,start=(0,0),moc=9):\n",
        "        self.nazwa = nazwa\n",
        "        self.start = start\n",
        "        self.miejsce = list(start)\n",
        "        self.moc = moc\n",
        "\n",
        "\n",
        "    def sprawdz_moc(moc):\n",
        "        if moc<=0:\n",
        "            raise ValueError(f\"Moc robota wynosi 0\")\n",
        "\n",
        "    # nazwa\n",
        "    @property\n",
        "    def nazwa(self):\n",
        "        return self.__nazwa\n",
        "    @nazwa.setter\n",
        "    def nazwa(self,value):\n",
        "        self.__nazwa = value\n",
        "\n",
        "    # start\n",
        "    @property\n",
        "    def start(self):\n",
        "        return self.__start\n",
        "    @start.setter\n",
        "    def start(self,value):\n",
        "        self.__start = value\n",
        "\n",
        "    # miejsce\n",
        "    @property\n",
        "    def miejsce(self):\n",
        "        return self.__miejsce\n",
        "    @miejsce.setter\n",
        "    def miejsce(self,value):\n",
        "        self.__miejsce = value\n",
        "\n",
        "    # moc\n",
        "    @property\n",
        "    def moc(self):\n",
        "        return self.__moc\n",
        "    @moc.setter\n",
        "    def moc(self,value):\n",
        "        self.__moc = value\n",
        "\n",
        "\n",
        "    # METODY RUCHU\n",
        "    def up(self,ilosc):\n",
        "        for i in range(ilosc):\n",
        "#             sprawdz_moc(self.moc)\n",
        "            self.miejsce[0] += 1\n",
        "            self.moc -= 1\n",
        "            if self.miejsce[0] == 7:\n",
        "                self.moc += 3\n",
        "            if self.miejsce[0] == 8:\n",
        "                self.miejsce[0] - 8\n",
        "\n",
        "    def right(self,ilosc):\n",
        "        for i in range(ilosc):\n",
        "            self.sprawdz_moc()\n",
        "            self.miejsce[1] += 1\n",
        "            if self.miejsce[1] == 7:\n",
        "                self.moc += 1\n",
        "            if self.miejsce[1] == 8:\n",
        "                self.miejsce[1] - 8\n",
        "\n",
        "\n",
        "\n",
        "\n",
        "    def __str__(self):\n",
        "        return f\"Nazwa: {self.nazwa}\\nMoc: {self.moc}\\nPozycja:{self.miejsce[0]+1},{self.miejsce[1]+1}\""
      ],
      "metadata": {
        "id": "KOYiDUyYhO7F"
      },
      "execution_count": null,
      "outputs": []
    },
    {
      "cell_type": "markdown",
      "source": [
        "### Zadanie\n",
        "\n",
        "Zaimplementuj klasę książka - wzorcem są informacje w części szczegóły kasiążki np\n",
        "w serwisie https://helion.pl/ksiazki/wzorce-projektowe-elementy-oprogramowania-obiektowego-wielokrotnego-uzytku-erich-gamma-richard-helm-ralph-johnson-john-vli,wzoelv.htm#\n"
      ],
      "metadata": {
        "id": "YeK-wtYty-9I"
      }
    },
    {
      "cell_type": "markdown",
      "source": [],
      "metadata": {
        "id": "q6mMUU7xZQh2"
      }
    },
    {
      "cell_type": "code",
      "source": [
        "class Book:\n",
        "  '''Klasa pokazuje książkę.'''\n",
        "  def __init__(self, tytul, tlumaczenie, isbn, data, isbne, datae):\n",
        "    self.set_tytul(tytul)\n",
        "    self.set_tlumaczenie(tlumaczenie)\n",
        "    self.set_isbn(isbn)\n",
        "    self.set_data(data)\n",
        "    self.set_isbne(isbne)\n",
        "    self.set_datae(datae)\n",
        "\n",
        "  def set_tytul(self, value):\n",
        "    if not isinstance(value,str):\n",
        "      raise Exception(\"Podaj napis\")\n",
        "    self.tytul = value\n",
        "  def set_tlumaczenie(self, value):\n",
        "    if not isinstance(value,str):\n",
        "      raise Exception(\"Podaj napis\")\n",
        "    if not value.isalpha():\n",
        "      raise Exception('Podaj napis bez cyfr')\n",
        "    self.tlumaczenie = value\n",
        "  def set_isbn(self, value):\n",
        "    if not isinstance(value, int):\n",
        "      raise Exception('Podaj cyfry')\n",
        "    if len(str(value)) != 13:\n",
        "      raise Exception('Podaj 13 cyfr')\n",
        "    self.isbn = value\n",
        "  def set_data(self, value):\n",
        "    if not isinstance(value, str):\n",
        "      raise Exception('Podaj date w formacie RRRR-MM-DD')\n",
        "    if len(value) != 10:\n",
        "      raise Exception('Podaj date w formacie RRRR-MM-DD')\n",
        "    if not value[0:4].isnumeric() or not value[5:7].isnumeric() or not value[8:].isnumeric():\n",
        "      raise Exception('Podaj date w formacie cyfr RRRR-MM-DD')\n",
        "    self.data = value\n",
        "  def set_isbne(self, value):\n",
        "    if not isinstance(value, int):\n",
        "      raise Exception('Podaj cyfry')\n",
        "    if len(str(value)) != 13:\n",
        "      raise Exception('Podaj 13 cyfr')\n",
        "    self.isbne = value\n",
        "  def set_datae(self, value):\n",
        "    if not isinstance(value, str):\n",
        "      raise Exception('Podaj date w formacie RRRR-MM-DD')\n",
        "    if len(value) != 10:\n",
        "      raise Exception('Podaj date w formacie RRRR-MM-DD')\n",
        "    if not value[0:4].isnumeric() or not value[5:7].isnumeric() or not value[8:].isnumeric():\n",
        "      raise Exception('Podaj date w formacie cyfr RRRR-MM-DD')\n",
        "    self.datae = value\n",
        "\n",
        "  def get_tytul(self):\n",
        "    return self.tytul\n",
        "  def get_tlumaczenie(self):\n",
        "    return self.tlumaczenie\n",
        "  def get_isbn(self):\n",
        "    return self.isbn\n",
        "  def get_data(self):\n",
        "    return self.data\n",
        "  def get_isbne(self):\n",
        "    return self.isbne\n",
        "  def get_datae(self):\n",
        "    return self.datae\n",
        "\n",
        "  def __str__(self):\n",
        "    return f\"Tytuł oryginału: {self.tytul}\\nTłumaczenie: {self.tlumaczenie}\\nISBN Książki drukowanej: {self.isbn}\\nData wydania książki drukowanej: {self.data}\\nISBN Ebooka: {self.isbne}\\nData wydania Ebooka: {self.datae}\""
      ],
      "metadata": {
        "id": "RUURmRDniqIh"
      },
      "execution_count": null,
      "outputs": []
    },
    {
      "cell_type": "markdown",
      "metadata": {
        "id": "9nzBINadxL8g"
      },
      "source": [
        "### Zadanie\n",
        "Przygotuj program baza książek.\n",
        "\n",
        "Rozwiąż rózne sposoby przechowywania informacji o książkach (słownik klucz litery alfabeatu, wartości lista) (lista). Dokonaj wyboru.\n",
        "\n",
        "Funkcjonalność:\n",
        "    - dodanie książki do bazy danych\n",
        "    - wyświetlenie wszystkich książek  znajdujących się w bazie danych (same tytuły)\n",
        "    - wyświetlenie szczegółowej informacji na temat książki\n",
        "    - zapisać bazę do pliku (pickle)\n",
        "    - odczytać bazę z pliku"
      ]
    },
    {
      "cell_type": "markdown",
      "source": [
        "### Zadanie\n",
        "Generator docstringa Google\n",
        "Napisz funkcję generującą docstring w typie Google, bazując na definicji funkcji `__init__`. Funkcja powinna pobierać zestaw parametrów w postaci słownika\n",
        "\n",
        "    {'Args': None, 'Returns': None, 'Raises': None, 'Attributes': None, 'Summary': None, 'Description': None}\n",
        "\n",
        "i generować poprawny docstring (w odpowiedniej kolejności).\n",
        "\n",
        "    >>> print(gen_doc_google({'Args': ['a', 'b'],\n",
        "                'Attributes': ['a', 'b'],\n",
        "                'Summary': \"Obiekt Gruszka opisuje nam wlasnosci gruszek.\"}))\n",
        "    '''\n",
        "    Obiekt Gruszka opisuje nam wlasnosci gruszek.\n",
        "\n",
        "    Args:\n",
        "    a:\n",
        "    b:\n",
        "\n",
        "    Attributes:\n",
        "    a: tu przechowujemy informacje o parametrze a\n",
        "    b: tu przechowujemy informacje o parametrze b\n",
        "\n",
        "    '''\n",
        "    "
      ],
      "metadata": {
        "id": "6GlLlF1wab2i"
      }
    },
    {
      "cell_type": "code",
      "source": [
        "def gen_doc_google(slownik):\n",
        "  napis = \"\"\n",
        "  napis += slownik[\"Summary\"]+\"\\n\\nArgs:\\n\"\n",
        "  napis += slownik[\"Args\"][0]+\":\\n\"\n",
        "  napis += slownik[\"Args\"][1]+\":\\n\\nAttributes:\\n\"\n",
        "  napis += slownik[\"Args\"][0]+\": \"+ slownik[\"Attributes\"][\"a\"]+\"\\n\"\n",
        "  napis += slownik[\"Args\"][1]+\": \" + slownik[\"Attributes\"]"
      ],
      "metadata": {
        "id": "eGbjuVMWabQJ"
      },
      "execution_count": null,
      "outputs": []
    },
    {
      "cell_type": "markdown",
      "source": [
        "### Zadnie\n",
        "Dopisz pełny docstring do poniższej funkcji\n",
        "\n"
      ],
      "metadata": {
        "id": "OJ0ec4TDZUMp"
      }
    },
    {
      "cell_type": "code",
      "source": [
        "  def horner(poly, x):\n",
        "\n",
        "    if len(poly)==0:\n",
        "        raise Exception(\"pusta lista\")\n",
        "    result = poly[0]\n",
        "    n = len(poly)\n",
        "    for i in range(1, n):\n",
        "        result = result*x + poly[i]\n",
        "    return result"
      ],
      "metadata": {
        "id": "L8FLi_5sZT6A"
      },
      "execution_count": null,
      "outputs": []
    },
    {
      "cell_type": "code",
      "source": [
        "horner([1,2,4,8], 2)"
      ],
      "metadata": {
        "colab": {
          "base_uri": "https://localhost:8080/"
        },
        "id": "IH0mnAu3drt9",
        "outputId": "eb305d42-4e10-42a0-83aa-4274e65dc3fc"
      },
      "execution_count": null,
      "outputs": [
        {
          "output_type": "execute_result",
          "data": {
            "text/plain": [
              "32"
            ]
          },
          "metadata": {},
          "execution_count": 91
        }
      ]
    },
    {
      "cell_type": "markdown",
      "metadata": {
        "id": "glQt_a3_xL8c"
      },
      "source": [
        "### Zadanie\n",
        "\n",
        "Wykonaj zadanie 4 (Szyfry) z matury rozszerzonej 2012. Arkusz (arkusz2) dostępny pod adresem: https://www.cke.gov.pl/egzamin-maturalny/egzamin-w-starej-formule/arkusze/2012-2/maj-2012/\n",
        "\n"
      ]
    },
    {
      "cell_type": "markdown",
      "source": [
        "### Zadanie\n",
        "\n",
        "Wykonaj zadanie 6 z matury rozszerzonej 2013. Arkusz (arkusz2) dostępny pod adresem:\n",
        "https://cke.gov.pl/egzamin-maturalny/egzamin-w-starej-formule/arkusze/2013-2/  "
      ],
      "metadata": {
        "id": "sCqCNV95CwUi"
      }
    },
    {
      "cell_type": "code",
      "source": [],
      "metadata": {
        "id": "qNHiEyovCkfz"
      },
      "execution_count": null,
      "outputs": []
    }
  ],
  "metadata": {
    "kernelspec": {
      "display_name": "Python 3 (ipykernel)",
      "language": "python",
      "name": "python3"
    },
    "language_info": {
      "codemirror_mode": {
        "name": "ipython",
        "version": 3
      },
      "file_extension": ".py",
      "mimetype": "text/x-python",
      "name": "python",
      "nbconvert_exporter": "python",
      "pygments_lexer": "ipython3",
      "version": "3.9.5"
    },
    "colab": {
      "provenance": []
    }
  },
  "nbformat": 4,
  "nbformat_minor": 0
}