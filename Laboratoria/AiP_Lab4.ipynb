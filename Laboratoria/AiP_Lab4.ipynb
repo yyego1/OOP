{
  "cells": [
    {
      "cell_type": "markdown",
      "metadata": {
        "id": "8qPMFJgnxL8D"
      },
      "source": [
        "## Informatyka stosowana, AiP\n",
        "\n",
        "#### Lab 8: Programowanie zorientowane obiektowo - przeciążanie operatorów\n",
        "**Pytania po wykładzie** -\n",
        "-  znajomość funkcji\n",
        "dodawania - `add` (radd, iadd)\n",
        "odejmowania - `sub`\n",
        "mnożenia - `mul`\n",
        "dzielenia klasycznego - `div`\n",
        "dzielenia całkowitego - `floordiv`\n",
        "reszty z dzielenia - `mod`\n",
        "divmod - zwraca krotkę (`div`, `mod`)\n",
        "- konwersje za pomocą metody init\n",
        "- porównywanie `lt`,  `gt`,  `le`, `ge`. `ne`, `eq`\n",
        "- sortowanie za pomocą funkcji sorted lub sort list złożonych z instancji\n",
        "- metody pomocnicze w klasie - bez self.\n"
      ]
    },
    {
      "cell_type": "markdown",
      "source": [
        "### Zadanie  1\n",
        "\n",
        "Napisz klasę liczby zespolone z działaniami dodawania, odejmowania, mnożenia, dzielenia, wyznaczania sprzężenia, postaci trygonometrycznej, modułu, porównywania liczb zespolonych zdefiniowanego jako większa jest ta która ma większy moduł. Napisz test.\n",
        "\n"
      ],
      "metadata": {
        "id": "Pt6eesXlewWL"
      }
    },
    {
      "cell_type": "code",
      "source": [
        "class LZ:\n",
        "  def __init__(self, re = 0, im = 0):\n",
        "    self.re = re\n",
        "    self.im = im\n",
        "\n",
        "  @property\n",
        "  def re(self):\n",
        "    return self._re\n",
        "\n",
        "  @re.setter\n",
        "  def re(self, value):\n",
        "    if not isinstance(value, int):\n",
        "      raise ValueError(\"znaczenie powinno byc int\")\n",
        "    else:\n",
        "      self._re = value\n",
        "\n",
        "  @property\n",
        "  def im(self):\n",
        "    return self._im\n",
        "\n",
        "  @im.setter\n",
        "  def im(self, value):\n",
        "    if not isinstance(value, int):\n",
        "      raise ValueError(\"znaczenie powinno byc int\")\n",
        "    else:\n",
        "      self._im = value\n",
        "\n",
        "\n",
        "  def __str__(self):\n",
        "    if self.re != 0:\n",
        "      if self.im <0:\n",
        "        return f\"{self._re}{self._im}i\"\n",
        "      elif self.im>0:\n",
        "        return f\"{self._re}+{self._im}i\"\n",
        "      else:\n",
        "        return f\"{self.re}\"\n",
        "    elif self.im != 0:\n",
        "        return f\"{self._im}i\"\n",
        "    else:\n",
        "      return f\"{self.re}\"\n",
        "\n",
        "  def __add__(self, other):\n",
        "    return LZ(self.re + other.re, self.im + other.im)\n",
        "\n",
        "  def __mul__(self, other):\n",
        "    a1 = self.re * other.re + self.im * other.im\n",
        "    a2 = self.re * other.im + other.re * self.im\n",
        "\n",
        "  def __rmul__(self, other):\n",
        "    a1 = self.re * other\n",
        "    a2 = other * self.im\n",
        "    return LZ(a1, a2)\n",
        "\n",
        "  def arg(self):\n",
        "    modul = self.modul\n",
        "    sin = self.im / self.modul\n",
        "    cos = self.re / self.modul\n",
        "    import math\n",
        "    acos = math.degrees(math.acos(cos))\n",
        "    return (sin, cos, acos)\n",
        "\n",
        "  def modul(self):\n",
        "    return (self.re**2 + self.im**2)**0.5\n",
        "\n",
        "  def __le__(self, other):\n",
        "    modul_self = self.modul()\n",
        "    modul_a = other.modul()\n",
        "    return modul_self < modul_a"
      ],
      "metadata": {
        "id": "OmysC6A1Pti-"
      },
      "execution_count": null,
      "outputs": []
    },
    {
      "cell_type": "code",
      "source": [
        "z1 = LZ(1, 1)\n",
        "z2 = LZ(5, 1)\n",
        "print(z1 + z2)\n",
        "print(z1 * z2)\n",
        "a = z1.modul()\n",
        "print(a)"
      ],
      "metadata": {
        "colab": {
          "base_uri": "https://localhost:8080/"
        },
        "id": "F5ICVSBUVOdc",
        "outputId": "640352ad-08c5-402f-df78-00219c205cc7"
      },
      "execution_count": null,
      "outputs": [
        {
          "output_type": "stream",
          "name": "stdout",
          "text": [
            "6+2i\n",
            "None\n",
            "1.4142135623730951\n"
          ]
        }
      ]
    },
    {
      "cell_type": "markdown",
      "source": [
        "### Zadanie 2a\n",
        "\n",
        "W klasie prezentowanej na wykładzie - liczby wymierne uzupełnij kody\n",
        "- setterów, aby obsługiwały sytuację zmiany licznika lub mianowanika na liczbę ujemną i pilnowały sytuacji jeżeli licznik i mianowanik są ujemne, to wynik był dodatni.\n",
        "- metody init, aby gdy dwa argumenty są ujemne - wynik był dodatni,\n",
        "\n",
        "\n"
      ],
      "metadata": {
        "id": "YeK-wtYty-9I"
      }
    },
    {
      "cell_type": "code",
      "source": [],
      "metadata": {
        "id": "ZyKUtce55hkp"
      },
      "execution_count": null,
      "outputs": []
    },
    {
      "cell_type": "markdown",
      "metadata": {
        "id": "ZVHLQ34LxL8S"
      },
      "source": [
        "### Zadanie 2b\n",
        "\n",
        "Dokończ klasę z wykładu - liczby wymierne o\n",
        "działania dodawaniwa, odejmowania, dzielenia, rzutowania na typ całkowity i typ float.\n",
        "\n",
        "\n",
        "\n",
        "\n",
        "\n",
        "\n"
      ]
    },
    {
      "cell_type": "code",
      "source": [],
      "metadata": {
        "id": "2I5bTXww9m4M"
      },
      "execution_count": null,
      "outputs": []
    },
    {
      "cell_type": "markdown",
      "source": [
        "### Zadanie 3\n",
        "\n",
        "Napisz klasę wektor - i zaimplementuj działania dodawania, mnożenia przez skalar i porównywania wektorów."
      ],
      "metadata": {
        "id": "E77iSqb6YXtT"
      }
    },
    {
      "cell_type": "code",
      "source": [
        "class wektor():\n",
        "  def __init__(self, lista = []):\n",
        "    self.__wektor = lista\n",
        "\n",
        "  def __str__(self):\n",
        "    return str(self.__wektor)\n",
        "\n",
        "  def __add__(self, other):\n",
        "    if isinstance(self, wektor) and isinstance(other,wektor):\n",
        "      lista_pomoc = []\n",
        "      if len(self.__wektor) < len(other.__wektor):\n",
        "        for i in range(len(self.__wektor)):\n",
        "          lista_pomoc.append(self.__wektor[i] + other.__wektor[i])\n",
        "        i = i+1\n",
        "        lista_pomoc.extend(other.__wektor[i::])\n",
        "      else:\n",
        "        for i in range(len(other.__wektor)):\n",
        "          lista_pomoc.append(self.__wektor[i] + other.__wektor[i])\n",
        "        i = i+1\n",
        "        lista_pomoc.extend(self.wekotr[i::])\n",
        "    return lista_pomoc\n",
        "\n",
        "  def __mul__(self, other):\n",
        "    if not isinstance(self, wektor) and not isinstance(other, int):\n",
        "      raise Exception(\"Niepoprawne dane\")\n",
        "    else:\n",
        "      nowa_lista = []\n",
        "      for i in self.__wektor:\n",
        "        l = i * other\n",
        "        nowa_lista.append(l)\n",
        "    return nowa_lista\n",
        "\n",
        "  def porownac(self, other):\n",
        "    pr_lista = []\n",
        "    for i in self.__wektor:\n",
        "      l = i**2\n",
        "      pr_lista.append(l)\n",
        "      dlugosc1 = (sum(pr_lista))**0.5\n",
        "    print(pr_lista)\n",
        "    pr2_lista = []\n",
        "    for x in other.__wektor:\n",
        "      m = x**2\n",
        "      pr2_lista.append(m)\n",
        "      dlugosc2 = (sum(pr2_lista))**0.5\n",
        "    print(pr2_lista)\n",
        "    if dlugosc1 < dlugosc2:\n",
        "      return f\"dlugosc wektora {self.__wektor} mniejsza niz dlugosc wektora {other.__wektor}\"\n",
        "    elif dlugosc1 == dlugosc2:\n",
        "      return f\"dlugosci sa rowne\"\n",
        "    elif dlugosc1 > dlugosc2:\n",
        "      return f\"dlugosc wektora {self.__wektor} wieksza od dlugosci wektora {other.__wektor}\"\n",
        "#MOZNA ZMIENIC NA WYRAZENIE LISTOWE"
      ],
      "metadata": {
        "id": "otlS-j_G4XDv"
      },
      "execution_count": null,
      "outputs": []
    },
    {
      "cell_type": "code",
      "source": [
        "a = wektor([2,3])\n",
        "print(a)\n",
        "b = wektor([2, 3, 4])\n",
        "f = wektor([2,3])\n",
        "g = wektor([30,20])\n",
        "print(b)\n",
        "print(a+b)\n",
        "print(b*3)\n",
        "print(\"------------------\")\n",
        "c = f.porownac(a)\n",
        "print(c)\n",
        "d = b.porownac(g)\n",
        "print(d)\n",
        "e = g.porownac(b)\n",
        "print(e)"
      ],
      "metadata": {
        "colab": {
          "base_uri": "https://localhost:8080/"
        },
        "id": "0q_ldrtB4q40",
        "outputId": "dc76ec3e-5126-4498-bd19-ec46ceb3e4fe"
      },
      "execution_count": null,
      "outputs": [
        {
          "output_type": "stream",
          "name": "stdout",
          "text": [
            "[2, 3]\n",
            "[2, 3, 4]\n",
            "[4, 6, 4]\n",
            "[6, 9, 12]\n",
            "------------------\n",
            "[4, 9]\n",
            "[4, 9]\n",
            "dlugosci sa rowne\n",
            "[4, 9, 16]\n",
            "[900, 400]\n",
            "dlugosc wektora [2, 3, 4] mniejsza niz dlugosc wektora [30, 20]\n",
            "[900, 400]\n",
            "[4, 9, 16]\n",
            "dlugosc wektora [30, 20] wieksza od dlugosci wektora [2, 3, 4]\n"
          ]
        }
      ]
    },
    {
      "cell_type": "code",
      "source": [
        "class Wektor2:\n",
        "    def __init__(self, lista=[]):\n",
        "        self.__wektor = lista\n",
        "\n",
        "    def __str__(self):\n",
        "        return str(self.__wektor)\n",
        "\n",
        "    def __add__(self, other):\n",
        "        if isinstance(self, Wektor2) and isinstance(other, Wektor2):\n",
        "            min_len = min(len(self.__wektor), len(other.__wektor))\n",
        "            suma = [self.__wektor[i] + other.__wektor[i] for i in range(min_len)]\n",
        "            if len(self.__wektor) > len(other.__wektor):\n",
        "                suma.extend(self.__wektor[min_len:])\n",
        "            else:\n",
        "                suma.extend(other.__wektor[min_len:])\n",
        "            return suma\n",
        "\n",
        "    def __mul__(self, other):\n",
        "        if not isinstance(self, Wektor2) or not isinstance(other, int):\n",
        "            raise Exception(\"Niepoprawne dane\")\n",
        "        else:\n",
        "            return [i * other for i in self.__wektor]\n",
        "\n",
        "    def porownac(self, other):\n",
        "        dlugosc1 = sum([i ** 2 for i in self.__wektor]) ** 0.5\n",
        "        dlugosc2 = sum([x ** 2 for x in other.__wektor]) ** 0.5\n",
        "        if dlugosc1 < dlugosc2:\n",
        "            return f\"dlugosc wektora {self.__wektor} mniejsza niz dlugosc wektora {other.__wektor}\"\n",
        "        elif dlugosc1 == dlugosc2:\n",
        "            return f\"dlugosci sa rowne\"\n",
        "        elif dlugosc1 > dlugosc2:\n",
        "            return f\"dlugosc wektora {self.__wektor} wieksza od dlugosci wektora {other.__wektor}\""
      ],
      "metadata": {
        "id": "ZSnM5cRJIJXz"
      },
      "execution_count": null,
      "outputs": []
    },
    {
      "cell_type": "code",
      "source": [
        "a = Wektor2([2,3])\n",
        "print(a)\n",
        "b = Wektor2([2, 3, 4])\n",
        "f = Wektor2([2,3])\n",
        "g = Wektor2([30,20])\n",
        "print(b)\n",
        "print(a+b)\n",
        "print(b*3)\n",
        "print(\"------------------\")\n",
        "c = f.porownac(a)\n",
        "print(c)\n",
        "d = b.porownac(g)\n",
        "print(d)\n",
        "e = g.porownac(b)\n",
        "print(e)"
      ],
      "metadata": {
        "colab": {
          "base_uri": "https://localhost:8080/"
        },
        "id": "-qR_J1VqId2-",
        "outputId": "87394e57-157b-4d35-ce85-5a45cba1697c"
      },
      "execution_count": null,
      "outputs": [
        {
          "output_type": "stream",
          "name": "stdout",
          "text": [
            "[2, 3]\n",
            "[2, 3, 4]\n",
            "[4, 6, 4]\n",
            "[6, 9, 12]\n",
            "------------------\n",
            "dlugosci sa rowne\n",
            "dlugosc wektora [2, 3, 4] mniejsza niz dlugosc wektora [30, 20]\n",
            "dlugosc wektora [30, 20] wieksza od dlugosci wektora [2, 3, 4]\n"
          ]
        }
      ]
    },
    {
      "cell_type": "markdown",
      "source": [
        "## Praca domowa\n",
        "\n",
        "Napisz klasę macierz. Zaimplementuj działania - dodawania, odejmowanie, mnożenia i mnożenia przez skalar oraz porównywania macierzy."
      ],
      "metadata": {
        "id": "8vFownj4CizA"
      }
    },
    {
      "cell_type": "code",
      "source": [
        "class Macierz:\n",
        "  def __init__(self, macierz):\n",
        "    self.__macierz = macierz\n",
        "\n",
        "  @property\n",
        "  def macierz(self):\n",
        "    return self.__macierz\n",
        "\n",
        "  @macierz.setter\n",
        "  def macierz(self, lista):\n",
        "    if isinstance(lista, list) and lista.isnumeric():\n",
        "      self.__macierz = lista\n",
        "    else:\n",
        "      raise ValueError(\"prosze podać macierz w liście jako [[x,x1,x2],[y,y1,y2],[z,z1,z2]]\")\n",
        "\n",
        "  def __str__(self):\n",
        "    return f\"{self.__macierz}\"\n",
        "\n",
        "  def __repr__(self):\n",
        "    return f\"Macierz(macierz = {self.__macierz})\"\n",
        "\n",
        "  def __add__(self, other):\n",
        "    for i in range(len(self.macierz)):\n",
        "      if (len(self.macierz[i]) != len(other.macierz[i])) or (len(self.macierz) != len(other.macierz)):\n",
        "        raise ValueError(\"macierz poza zakresem\")\n",
        "    rzad = []\n",
        "    wynik = []\n",
        "    for i in range(len(self.macierz)):\n",
        "      for j in range(len(self.macierz[i])):\n",
        "        rzad.append(self.__macierz[i][j] + other.__macierz[i][j])\n",
        "      wynik.append(rzad)\n",
        "      rzad = []\n",
        "    return wynik\n",
        "\n",
        "  def __sub__(self,other):\n",
        "    for i in range(len(self.macierz)):\n",
        "      if (len(self.macierz[i]) != len(other.macierz[i])) or (len(self.macierz) != len(other.macierz)):\n",
        "        raise ValueError(\"macierz poza zakresem\")\n",
        "    rzad = []\n",
        "    wynik = []\n",
        "    for i in range(len(self.macierz)):\n",
        "      for j in range(len(self.macierz[i])):\n",
        "        rzad.append(self.__macierz[i][j] - other.__macierz[i][j])\n",
        "      wynik.append(rzad)\n",
        "      rzad = []\n",
        "    return wynik\n",
        "  def __mul__(self,other):\n",
        "    if isinstance(other, Macierz):\n",
        "      if len(other.macierz) == len(self.macierz[0]):\n",
        "        wynik = []\n",
        "        for i in range(len(self.macierz)):\n",
        "          element = []\n",
        "          for j in range(len(self.macierz)):\n",
        "            pomoc = 0\n",
        "            for k in range(len(self.macierz[0])):\n",
        "              pomoc += self.macierz[i][k] * other.macierz[k][j]\n",
        "            element.append(pomoc)\n",
        "          wynik.append(element)\n",
        "        return wynik\n",
        "      else:\n",
        "        raise ValueError(\"liczba wierzy A ma być równa liczbie kolumn B\")\n",
        "    elif isinstance(other,int):\n",
        "      wynik = []\n",
        "      for i in range(len(self.macierz)):\n",
        "        element = []\n",
        "        for j in range(len(self.macierz[0])):\n",
        "          element.append(self.macierz[i][j] * other)\n",
        "        wynik.append(element)\n",
        "      return wynik"
      ],
      "metadata": {
        "id": "uAiCu1eyzbG5"
      },
      "execution_count": null,
      "outputs": []
    },
    {
      "cell_type": "markdown",
      "source": [
        "W klasie Osoba dodaj taką funkcję, która daje możliwość sortowania listy złożonej z instancji tej klasy. Sorotwanie wg nazwiska."
      ],
      "metadata": {
        "id": "Q82Q30cNauOl"
      }
    },
    {
      "cell_type": "code",
      "source": [],
      "metadata": {
        "id": "qNHiEyovCkfz"
      },
      "execution_count": null,
      "outputs": []
    }
  ],
  "metadata": {
    "kernelspec": {
      "display_name": "Python 3 (ipykernel)",
      "language": "python",
      "name": "python3"
    },
    "language_info": {
      "codemirror_mode": {
        "name": "ipython",
        "version": 3
      },
      "file_extension": ".py",
      "mimetype": "text/x-python",
      "name": "python",
      "nbconvert_exporter": "python",
      "pygments_lexer": "ipython3",
      "version": "3.9.5"
    },
    "colab": {
      "provenance": []
    }
  },
  "nbformat": 4,
  "nbformat_minor": 0
}