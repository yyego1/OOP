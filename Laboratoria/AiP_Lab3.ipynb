{
  "cells": [
    {
      "cell_type": "markdown",
      "metadata": {
        "id": "8qPMFJgnxL8D"
      },
      "source": [
        "## Informatyka stosowana, AiP\n",
        "\n",
        "#### Lab 7: Programowanie zorientowane obiektowo dziedziczenie\n",
        "**Pytania po wykładzie** -\n",
        "- mechanizm zawierania klasy jako pola innej klasy\n",
        "- na czym polega mechanizm dziedziczenia\n",
        "- dziedziczenie metod - nadpisywanie dodawanie nowej funkcjonalności\n",
        "- wywwołanie metod z klasy nadrzędnej\n",
        "- dziedziczenie wielokrotne\n",
        "- MRO\n",
        "\n",
        "Przygotuj koniecznie na  ćwiczenia\n",
        "klasy:\n",
        "Konto, Osoba\n"
      ]
    },
    {
      "cell_type": "markdown",
      "source": [
        "### Zadanie 0\n",
        "\n",
        "Przygotuj moduł zawierjący klasy Osoba i Konto. Zaimportuj moduł. Utwórz instancje tych klas. Sprawdż funkcjonalność."
      ],
      "metadata": {
        "id": "Pt6eesXlewWL"
      }
    },
    {
      "cell_type": "code",
      "source": [
        "class Konto:\n",
        "    \"\"\"\n",
        "    Obiekt Konto - słuzy do obsługi kont bankowych.\n",
        "\n",
        "    Args:\n",
        "        imie (str)\n",
        "        nazwisko (str)\n",
        "        pin (int)\n",
        "    Atributes:\n",
        "        osoba -przechowuje  nazwisko osoby\n",
        "        pin - przechowuje pin\n",
        "        saldo - przechowuje saldo\n",
        "    \"\"\"\n",
        "\n",
        "    def __init__(self,nazwisko=\"\",pin=0):\n",
        "        print(\"klasa Konto\")\n",
        "        self.o = Osoba4(nazwisko)\n",
        "        self.saldo = 0\n",
        "        self.pin = pin\n",
        "\n",
        "    def get_pin():\n",
        "        return self.pin##losowa liczba złozona z 4 cyfr\n",
        "\n",
        "    def wplac(self,kwota):\n",
        "        ###sprawdzić kwotę\n",
        "        self.saldo += kwota\n",
        "\n",
        "\n",
        "    def __str__(self):\n",
        "       # return f\"Stan konta Pana(i) {self.o.get_nazwisko()} wynosi {self.saldo}\"\n",
        "        return f\"Stan konta Pana(i)\\n{self.o.__str__()} \\nwynosi {self.saldo}\""
      ],
      "metadata": {
        "id": "JOCu91Y7j9bn"
      },
      "execution_count": null,
      "outputs": []
    },
    {
      "cell_type": "code",
      "source": [],
      "metadata": {
        "id": "Cy_ysQAOtE5d"
      },
      "execution_count": null,
      "outputs": []
    },
    {
      "cell_type": "code",
      "source": [
        "from modull import Osoba as o\n",
        "osoba1 = Osoba('Hello', 'Bye', 5574839065304, 55, 'M')\n",
        "print(osoba1)"
      ],
      "metadata": {
        "id": "ew7JPI81nDuB",
        "outputId": "c19c6d6e-e23e-4896-b8a1-0d79b0beae55",
        "colab": {
          "base_uri": "https://localhost:8080/"
        }
      },
      "execution_count": null,
      "outputs": [
        {
          "output_type": "stream",
          "name": "stdout",
          "text": [
            "Hello Bye 5574839065304  55 lat, płeć: M\n"
          ]
        }
      ]
    },
    {
      "cell_type": "code",
      "source": [
        "class Student(Osoba):\n",
        "  def __init__(self, imie, nazwisko, pesel, wiek, plec, piwo):\n",
        "    self.piwo = piwo\n",
        "    Osoba.imie = imie\n",
        "    Osoba.nazwisko = nazwisko\n",
        "    Osoba.pesel = pesel\n",
        "    Osoba.wiek = wiek\n",
        "    Osoba.plec = plec\n",
        "  def __str__(self):\n",
        "    return f\"{Osoba.__str__(self)}, piwo:{self.piwo}\""
      ],
      "metadata": {
        "id": "BYHDkK-moS3f"
      },
      "execution_count": null,
      "outputs": []
    },
    {
      "cell_type": "code",
      "source": [
        "student1 = Student(\"F\", \"D\", 45764573452, 44, \"M\", \"Lomza\")\n",
        "print(student1)"
      ],
      "metadata": {
        "id": "rHaMbAvpo42O",
        "outputId": "ad5059b6-342d-40c3-b867-f54089b5cb29",
        "colab": {
          "base_uri": "https://localhost:8080/"
        }
      },
      "execution_count": null,
      "outputs": [
        {
          "output_type": "stream",
          "name": "stdout",
          "text": [
            "F D 45764573452  44 lat, płeć: M, piwo:Lomza\n"
          ]
        }
      ]
    },
    {
      "cell_type": "markdown",
      "metadata": {
        "id": "ZVHLQ34LxL8S"
      },
      "source": [
        "### Zadanie 1\n",
        "\n",
        "Napisz klasę Student dziedziczacą po klasie Osoba. Dodatkowym polem będzie numer_indeksu. Przygotuj setter i getter dla numeru indeksu. Napisz metody init, str i repr nadpisujące metody z klasy  Osoba. Napisz poprawny docstring.\n",
        "Przetestuj działanie.\n",
        "\n",
        "\n",
        "\n",
        "\n",
        "\n",
        "\n"
      ]
    },
    {
      "cell_type": "markdown",
      "source": [
        "### Zadanie 2\n",
        "\n",
        "Napisz klasy\n",
        "- pojazd -  z polem maksymalna_prędkość_na_lądzie: ( np. 65km/h)\n",
        "\n",
        "- łódź - z polem maksymalna_prędkość_w_wodzie: (np 6km/h)\n",
        "\n",
        "i metodami `init`, `str`, `repr`, setter, getter\n",
        "\n",
        "oraz klasę amfibia dziedziczącą po klasach pojazd i łódź zawierającą dodatkowe pole wlaściciel typu Osoba.\n",
        "\n",
        "W klasie `Amfibia` przygotuj metody `init`, `str`, `repr`. Utwórz instancje przeprowadź testy.\n"
      ],
      "metadata": {
        "id": "YeK-wtYty-9I"
      }
    },
    {
      "cell_type": "code",
      "source": [
        "class Pojazd:\n",
        "  def __init__(self, maksymalna_predkosc_na_ladzie):\n",
        "    self.maksymalna_predkosc_na_ladzie = maksymalna_predkosc_na_ladzie\n",
        "\n",
        "  @property\n",
        "  def maksymalna_predkosc_na_ladzie(self):\n",
        "    return self.__maksymalna_predkosc_na_ladzie\n",
        "\n",
        "  @maksymalna_predkosc_na_ladzie.setter\n",
        "  def maksymalna_predkosc_na_ladzie(self, value):\n",
        "    self.__maksymalna_predkosc_na_ladzie = value\n",
        "\n",
        "  def __str__(self):\n",
        "    return f\"maksumalna predkosc na ladzie: {self.maksymalna_predkosc_na_ladzie}\""
      ],
      "metadata": {
        "id": "fL8upfsdx5Vk"
      },
      "execution_count": null,
      "outputs": []
    },
    {
      "cell_type": "code",
      "source": [
        "pojazd1 = Pojazd(70)\n",
        "print(pojazd1)\n",
        "pojazd1.maksymalna_predkosc_na_ladzie = (45)\n",
        "print(pojazd1)"
      ],
      "metadata": {
        "id": "XfuyzJOHy-Il",
        "outputId": "6c42f590-c257-4909-b7bb-b62256c03fa1",
        "colab": {
          "base_uri": "https://localhost:8080/"
        }
      },
      "execution_count": null,
      "outputs": [
        {
          "output_type": "stream",
          "name": "stdout",
          "text": [
            "maksumalna predkosc na ladzie: 70\n",
            "maksumalna predkosc na ladzie: 45\n"
          ]
        }
      ]
    },
    {
      "cell_type": "code",
      "source": [
        "class Lodz:\n",
        "  def __init__(self, maksymalna_predkosc_w_wodzie):\n",
        "    self.maksymalna_predkosc_w_wodzie = maksymalna_predkosc_w_wodzie\n",
        "\n",
        "  @property\n",
        "  def maksymalna_predkosc_w_wodzie(self):\n",
        "    return self.__maksymalna_predkosc_w_wodzie\n",
        "\n",
        "  @maksymalna_predkosc_w_wodzie.setter\n",
        "  def maksymalna_predkosc_w_wodzie(self, value):\n",
        "    self.__maksymalna_predkosc_w_wodzie = value\n",
        "\n",
        "  def __str__(self):\n",
        "    return f\"maksymalna predkosc w wodzie: {self.__maksymalna_predkosc_w_wodzie}\"\n"
      ],
      "metadata": {
        "id": "ONf5I1VZzYb8"
      },
      "execution_count": null,
      "outputs": []
    },
    {
      "cell_type": "code",
      "source": [
        "lodz1 = Lodz(3)\n",
        "print(lodz1)\n",
        "lodz1.maksymalna_predkosc_w_wodzie = (4)\n",
        "print(lodz1)"
      ],
      "metadata": {
        "id": "nx4dl5Th0MuK",
        "outputId": "a20f06a3-2e89-4ebe-f871-cefc38ce0be5",
        "colab": {
          "base_uri": "https://localhost:8080/"
        }
      },
      "execution_count": null,
      "outputs": [
        {
          "output_type": "stream",
          "name": "stdout",
          "text": [
            "maksymalna predkosc w wodzie: 3\n",
            "maksymalna predkosc w wodzie: 4\n"
          ]
        }
      ]
    },
    {
      "cell_type": "code",
      "source": [
        "class Amfibia(Pojazd, Lodz):\n",
        "  def __init__(self, nazwa, maksymalna_predkosc_na_ladzie, maksymalna_predkosc_w_wodzie):\n",
        "    self.nazwa = nazwa\n",
        "    Pojazd.maksymalna_predkosc_na_ladzie = maksymalna_predkosc_na_ladzie\n",
        "    Lodz.maksymalna_predkosc_w_wodzie = maksymalna_predkosc_w_wodzie\n",
        "\n",
        "  @property\n",
        "  def nazwa(self):\n",
        "    return self.__nazwa\n",
        "\n",
        "  @nazwa.setter\n",
        "  def nazwa(self, value):\n",
        "    self.__nazwa = value\n",
        "\n",
        "  def __str__(self):\n",
        "    f\"Nazwa amfibii: {self.__nazwa}, {Pojazd.__str__(self)}, {Lodz.__str__(self)}\""
      ],
      "metadata": {
        "id": "oVJ9i6vP0Y_B"
      },
      "execution_count": null,
      "outputs": []
    },
    {
      "cell_type": "code",
      "source": [
        "amfibia1 = Amfibia(\"Ryba\", 45, 5)\n",
        "print(amfibia1)"
      ],
      "metadata": {
        "id": "A14kN3RN2DJm",
        "outputId": "a20a01c8-c44d-45a3-8f2b-cf64dd9f834e",
        "colab": {
          "base_uri": "https://localhost:8080/",
          "height": 293
        }
      },
      "execution_count": null,
      "outputs": [
        {
          "output_type": "error",
          "ename": "AttributeError",
          "evalue": "ignored",
          "traceback": [
            "\u001b[0;31m---------------------------------------------------------------------------\u001b[0m",
            "\u001b[0;31mAttributeError\u001b[0m                            Traceback (most recent call last)",
            "\u001b[0;32m<ipython-input-113-9ddff0cb3494>\u001b[0m in \u001b[0;36m<cell line: 2>\u001b[0;34m()\u001b[0m\n\u001b[1;32m      1\u001b[0m \u001b[0mamfibia1\u001b[0m \u001b[0;34m=\u001b[0m \u001b[0mAmfibia\u001b[0m\u001b[0;34m(\u001b[0m\u001b[0;34m\"Ryba\"\u001b[0m\u001b[0;34m,\u001b[0m \u001b[0;36m45\u001b[0m\u001b[0;34m,\u001b[0m \u001b[0;36m5\u001b[0m\u001b[0;34m)\u001b[0m\u001b[0;34m\u001b[0m\u001b[0;34m\u001b[0m\u001b[0m\n\u001b[0;32m----> 2\u001b[0;31m \u001b[0mprint\u001b[0m\u001b[0;34m(\u001b[0m\u001b[0mamfibia1\u001b[0m\u001b[0;34m)\u001b[0m\u001b[0;34m\u001b[0m\u001b[0;34m\u001b[0m\u001b[0m\n\u001b[0m",
            "\u001b[0;32m<ipython-input-112-eb537e946852>\u001b[0m in \u001b[0;36m__str__\u001b[0;34m(self)\u001b[0m\n\u001b[1;32m     14\u001b[0m \u001b[0;34m\u001b[0m\u001b[0m\n\u001b[1;32m     15\u001b[0m   \u001b[0;32mdef\u001b[0m \u001b[0m__str__\u001b[0m\u001b[0;34m(\u001b[0m\u001b[0mself\u001b[0m\u001b[0;34m)\u001b[0m\u001b[0;34m:\u001b[0m\u001b[0;34m\u001b[0m\u001b[0;34m\u001b[0m\u001b[0m\n\u001b[0;32m---> 16\u001b[0;31m     \u001b[0;34mf\"Nazwa amfibii: {self.__nazwa}, {Pojazd.__str__(self)}, {Lodz.__str__(self)}\"\u001b[0m\u001b[0;34m\u001b[0m\u001b[0;34m\u001b[0m\u001b[0m\n\u001b[0m",
            "\u001b[0;32m<ipython-input-110-13d9c93b335e>\u001b[0m in \u001b[0;36m__str__\u001b[0;34m(self)\u001b[0m\n\u001b[1;32m     12\u001b[0m \u001b[0;34m\u001b[0m\u001b[0m\n\u001b[1;32m     13\u001b[0m   \u001b[0;32mdef\u001b[0m \u001b[0m__str__\u001b[0m\u001b[0;34m(\u001b[0m\u001b[0mself\u001b[0m\u001b[0;34m)\u001b[0m\u001b[0;34m:\u001b[0m\u001b[0;34m\u001b[0m\u001b[0;34m\u001b[0m\u001b[0m\n\u001b[0;32m---> 14\u001b[0;31m     \u001b[0;32mreturn\u001b[0m \u001b[0;34mf\"maksymalna predkosc w wodzie: {self.__maksymalna_predkosc_w_wodzie}\"\u001b[0m\u001b[0;34m\u001b[0m\u001b[0;34m\u001b[0m\u001b[0m\n\u001b[0m",
            "\u001b[0;31mAttributeError\u001b[0m: 'Amfibia' object has no attribute '_Lodz__maksymalna_predkosc_w_wodzie'"
          ]
        }
      ]
    },
    {
      "cell_type": "markdown",
      "source": [
        "## Praca domowa"
      ],
      "metadata": {
        "id": "8vFownj4CizA"
      }
    },
    {
      "cell_type": "markdown",
      "metadata": {
        "id": "glQt_a3_xL8c"
      },
      "source": [
        "### Zadanie\n",
        "Konto oszczędnościowe łączy w sobie cechy konta osobistego i lokaty, gdyż znajdujące się na nim środki są oprocentowane, ale w przeciwieństwie do lokaty klient ma do nich swobodny dostęp bez utraty odsetek. Do otwarcia konta oszczędnościowego wymagane jest zazwyczaj posiadanie także konta osobistego w tym samym banku.\n",
        "\n",
        "Napisz klasę Konto_oszczednosciowe dziedziczace po klasie Konto.\n",
        "\n",
        "Dodatkowa funkcjonalność\n",
        "- otworz lokatę\n",
        "- zerwij lokatę\n",
        "- pola - `oprocentowanie_lokaty` i `maksymalna_kwota_lokaty`. Przygotuj setter i getter dla tych pól.\n",
        "\n",
        "Postaraj się aby program jak najbardziej pasował do rzeczywistej obsługi kont oszczędnościowych jakie znasz.\n",
        "\n",
        "\n",
        "Napisz metody init, str i repr nadpisujące metody z klasy  konto. Napisz poprawny docstring.\n",
        "Przetestuj działanie.\n",
        "\n"
      ]
    },
    {
      "cell_type": "code",
      "source": [],
      "metadata": {
        "id": "qNHiEyovCkfz"
      },
      "execution_count": null,
      "outputs": []
    }
  ],
  "metadata": {
    "kernelspec": {
      "display_name": "Python 3 (ipykernel)",
      "language": "python",
      "name": "python3"
    },
    "language_info": {
      "codemirror_mode": {
        "name": "ipython",
        "version": 3
      },
      "file_extension": ".py",
      "mimetype": "text/x-python",
      "name": "python",
      "nbconvert_exporter": "python",
      "pygments_lexer": "ipython3",
      "version": "3.9.5"
    },
    "colab": {
      "provenance": []
    }
  },
  "nbformat": 4,
  "nbformat_minor": 0
}